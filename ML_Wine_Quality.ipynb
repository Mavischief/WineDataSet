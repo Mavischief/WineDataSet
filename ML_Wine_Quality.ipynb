{
  "nbformat": 4,
  "nbformat_minor": 0,
  "metadata": {
    "colab": {
      "provenance": []
    },
    "kernelspec": {
      "name": "python3",
      "display_name": "Python 3"
    }
  },
  "cells": [
    {
      "cell_type": "markdown",
      "metadata": {
        "id": "iKWGbqf_MpOV"
      },
      "source": [
        "# Notebook de Análise da Qualidade de vinho\n",
        "\n",
        "O ojetivo deste código de Machine Learning é desenvolver uma predição da qualidade do vinho produzido. Onde a qualidade do vinho terá como saída números interiros."
      ]
    },
    {
      "cell_type": "markdown",
      "source": [
        "#0) Importação de Bibliotecas\n",
        "\n",
        "###O início do código é a importação das bibliotecas a serem utilizadas.\n",
        "\n",
        "\n",
        "\n",
        "Numpy para realizar as operações matemáticas.\n",
        "Pandas para manipular dados. Aqui é utilizada para obter os dados da url.\n",
        "Sklearn para o Machine Learning.\n",
        "Warnings para ignorar os warnings."
      ],
      "metadata": {
        "id": "0PrCzlsa4TS_"
      }
    },
    {
      "cell_type": "code",
      "source": [
        "# configuração para não exibir os warnings\n",
        "import warnings\n",
        "warnings.filterwarnings(\"ignore\")\n",
        "\n",
        "# Imports necessários\n",
        "import pandas as pd\n",
        "import numpy as np\n",
        "import matplotlib.pyplot as plt\n",
        "from sklearn.preprocessing import StandardScaler\n",
        "from sklearn.preprocessing import MinMaxScaler\n",
        "from sklearn.model_selection import train_test_split\n",
        "from sklearn.model_selection import KFold\n",
        "from sklearn.model_selection import StratifiedKFold\n",
        "from sklearn.model_selection import cross_val_score\n",
        "from sklearn.model_selection import GridSearchCV\n",
        "from sklearn.metrics import accuracy_score\n",
        "from sklearn.pipeline import Pipeline\n",
        "from sklearn.tree import DecisionTreeClassifier\n",
        "from sklearn.neighbors import KNeighborsClassifier\n",
        "from sklearn.naive_bayes import GaussianNB\n",
        "from sklearn.svm import SVC\n",
        "from pickle import dump\n",
        "from pickle import load"
      ],
      "metadata": {
        "id": "MCsS7iZPVryN"
      },
      "execution_count": null,
      "outputs": []
    },
    {
      "cell_type": "markdown",
      "source": [
        "# 1) Carga do Dataset\n",
        "\n",
        "Os dados são obtidos a partir da url.\n",
        "\n",
        "\n",
        "---\n",
        "\n",
        "Variáveis de entrada:\n",
        "*   1 - fixed acidity (>=0)\n",
        "*   2 - volatile acidity (>=0)\n",
        "*   3 - citric acid (>=0)\n",
        "*   4 - residual sugar (>=0)\n",
        "*   5 - chlorides (>=0)\n",
        "*   6 - free sulfur dioxide (>=0)\n",
        "*   7 - total sulfur dioxide (>=0)\n",
        "*   8 - density (>0)\n",
        "*   9 - pH (<=14 e >=0)\n",
        "*   10 - sulphates (>=0)\n",
        "*   11 - alcohol (>=0)\n",
        "\n",
        "\n",
        "---\n",
        "\n",
        "\n",
        "Variável de saída :\n",
        "*   12 - quality (int 0 a 10)"
      ],
      "metadata": {
        "id": "a5frQgqNU410"
      }
    },
    {
      "cell_type": "code",
      "metadata": {
        "id": "MAlSLjvwuMtW",
        "colab": {
          "base_uri": "https://localhost:8080/",
          "height": 206
        },
        "outputId": "7835ec60-0a84-4f94-d5b0-bed4ec6b9bd4"
      },
      "source": [
        "# url a importar\n",
        "url = 'https://raw.githubusercontent.com/Mavischief/Wine_Quality_ML/main/winequality-white.csv'\n",
        "\n",
        "# Lê o arquivo\n",
        "dataset = pd.read_csv(url, delimiter=';')\n",
        "\n",
        "# exibe as 5 primeiras linhas\n",
        "dataset.head()"
      ],
      "execution_count": null,
      "outputs": [
        {
          "output_type": "execute_result",
          "data": {
            "text/plain": [
              "   fixed acidity  volatile acidity  citric acid  residual sugar  chlorides  \\\n",
              "0            7.0              0.27         0.36            20.7      0.045   \n",
              "1            6.3              0.30         0.34             1.6      0.049   \n",
              "2            8.1              0.28         0.40             6.9      0.050   \n",
              "3            7.2              0.23         0.32             8.5      0.058   \n",
              "4            7.2              0.23         0.32             8.5      0.058   \n",
              "\n",
              "   free sulfur dioxide  total sulfur dioxide  density    pH  sulphates  \\\n",
              "0                 45.0                 170.0   1.0010  3.00       0.45   \n",
              "1                 14.0                 132.0   0.9940  3.30       0.49   \n",
              "2                 30.0                  97.0   0.9951  3.26       0.44   \n",
              "3                 47.0                 186.0   0.9956  3.19       0.40   \n",
              "4                 47.0                 186.0   0.9956  3.19       0.40   \n",
              "\n",
              "   alcohol  quality  \n",
              "0      8.8        6  \n",
              "1      9.5        6  \n",
              "2     10.1        6  \n",
              "3      9.9        6  \n",
              "4      9.9        6  "
            ],
            "text/html": [
              "\n",
              "  <div id=\"df-4a816f03-210e-4469-aea8-38331c4cf0ce\" class=\"colab-df-container\">\n",
              "    <div>\n",
              "<style scoped>\n",
              "    .dataframe tbody tr th:only-of-type {\n",
              "        vertical-align: middle;\n",
              "    }\n",
              "\n",
              "    .dataframe tbody tr th {\n",
              "        vertical-align: top;\n",
              "    }\n",
              "\n",
              "    .dataframe thead th {\n",
              "        text-align: right;\n",
              "    }\n",
              "</style>\n",
              "<table border=\"1\" class=\"dataframe\">\n",
              "  <thead>\n",
              "    <tr style=\"text-align: right;\">\n",
              "      <th></th>\n",
              "      <th>fixed acidity</th>\n",
              "      <th>volatile acidity</th>\n",
              "      <th>citric acid</th>\n",
              "      <th>residual sugar</th>\n",
              "      <th>chlorides</th>\n",
              "      <th>free sulfur dioxide</th>\n",
              "      <th>total sulfur dioxide</th>\n",
              "      <th>density</th>\n",
              "      <th>pH</th>\n",
              "      <th>sulphates</th>\n",
              "      <th>alcohol</th>\n",
              "      <th>quality</th>\n",
              "    </tr>\n",
              "  </thead>\n",
              "  <tbody>\n",
              "    <tr>\n",
              "      <th>0</th>\n",
              "      <td>7.0</td>\n",
              "      <td>0.27</td>\n",
              "      <td>0.36</td>\n",
              "      <td>20.7</td>\n",
              "      <td>0.045</td>\n",
              "      <td>45.0</td>\n",
              "      <td>170.0</td>\n",
              "      <td>1.0010</td>\n",
              "      <td>3.00</td>\n",
              "      <td>0.45</td>\n",
              "      <td>8.8</td>\n",
              "      <td>6</td>\n",
              "    </tr>\n",
              "    <tr>\n",
              "      <th>1</th>\n",
              "      <td>6.3</td>\n",
              "      <td>0.30</td>\n",
              "      <td>0.34</td>\n",
              "      <td>1.6</td>\n",
              "      <td>0.049</td>\n",
              "      <td>14.0</td>\n",
              "      <td>132.0</td>\n",
              "      <td>0.9940</td>\n",
              "      <td>3.30</td>\n",
              "      <td>0.49</td>\n",
              "      <td>9.5</td>\n",
              "      <td>6</td>\n",
              "    </tr>\n",
              "    <tr>\n",
              "      <th>2</th>\n",
              "      <td>8.1</td>\n",
              "      <td>0.28</td>\n",
              "      <td>0.40</td>\n",
              "      <td>6.9</td>\n",
              "      <td>0.050</td>\n",
              "      <td>30.0</td>\n",
              "      <td>97.0</td>\n",
              "      <td>0.9951</td>\n",
              "      <td>3.26</td>\n",
              "      <td>0.44</td>\n",
              "      <td>10.1</td>\n",
              "      <td>6</td>\n",
              "    </tr>\n",
              "    <tr>\n",
              "      <th>3</th>\n",
              "      <td>7.2</td>\n",
              "      <td>0.23</td>\n",
              "      <td>0.32</td>\n",
              "      <td>8.5</td>\n",
              "      <td>0.058</td>\n",
              "      <td>47.0</td>\n",
              "      <td>186.0</td>\n",
              "      <td>0.9956</td>\n",
              "      <td>3.19</td>\n",
              "      <td>0.40</td>\n",
              "      <td>9.9</td>\n",
              "      <td>6</td>\n",
              "    </tr>\n",
              "    <tr>\n",
              "      <th>4</th>\n",
              "      <td>7.2</td>\n",
              "      <td>0.23</td>\n",
              "      <td>0.32</td>\n",
              "      <td>8.5</td>\n",
              "      <td>0.058</td>\n",
              "      <td>47.0</td>\n",
              "      <td>186.0</td>\n",
              "      <td>0.9956</td>\n",
              "      <td>3.19</td>\n",
              "      <td>0.40</td>\n",
              "      <td>9.9</td>\n",
              "      <td>6</td>\n",
              "    </tr>\n",
              "  </tbody>\n",
              "</table>\n",
              "</div>\n",
              "    <div class=\"colab-df-buttons\">\n",
              "\n",
              "  <div class=\"colab-df-container\">\n",
              "    <button class=\"colab-df-convert\" onclick=\"convertToInteractive('df-4a816f03-210e-4469-aea8-38331c4cf0ce')\"\n",
              "            title=\"Convert this dataframe to an interactive table.\"\n",
              "            style=\"display:none;\">\n",
              "\n",
              "  <svg xmlns=\"http://www.w3.org/2000/svg\" height=\"24px\" viewBox=\"0 -960 960 960\">\n",
              "    <path d=\"M120-120v-720h720v720H120Zm60-500h600v-160H180v160Zm220 220h160v-160H400v160Zm0 220h160v-160H400v160ZM180-400h160v-160H180v160Zm440 0h160v-160H620v160ZM180-180h160v-160H180v160Zm440 0h160v-160H620v160Z\"/>\n",
              "  </svg>\n",
              "    </button>\n",
              "\n",
              "  <style>\n",
              "    .colab-df-container {\n",
              "      display:flex;\n",
              "      gap: 12px;\n",
              "    }\n",
              "\n",
              "    .colab-df-convert {\n",
              "      background-color: #E8F0FE;\n",
              "      border: none;\n",
              "      border-radius: 50%;\n",
              "      cursor: pointer;\n",
              "      display: none;\n",
              "      fill: #1967D2;\n",
              "      height: 32px;\n",
              "      padding: 0 0 0 0;\n",
              "      width: 32px;\n",
              "    }\n",
              "\n",
              "    .colab-df-convert:hover {\n",
              "      background-color: #E2EBFA;\n",
              "      box-shadow: 0px 1px 2px rgba(60, 64, 67, 0.3), 0px 1px 3px 1px rgba(60, 64, 67, 0.15);\n",
              "      fill: #174EA6;\n",
              "    }\n",
              "\n",
              "    .colab-df-buttons div {\n",
              "      margin-bottom: 4px;\n",
              "    }\n",
              "\n",
              "    [theme=dark] .colab-df-convert {\n",
              "      background-color: #3B4455;\n",
              "      fill: #D2E3FC;\n",
              "    }\n",
              "\n",
              "    [theme=dark] .colab-df-convert:hover {\n",
              "      background-color: #434B5C;\n",
              "      box-shadow: 0px 1px 3px 1px rgba(0, 0, 0, 0.15);\n",
              "      filter: drop-shadow(0px 1px 2px rgba(0, 0, 0, 0.3));\n",
              "      fill: #FFFFFF;\n",
              "    }\n",
              "  </style>\n",
              "\n",
              "    <script>\n",
              "      const buttonEl =\n",
              "        document.querySelector('#df-4a816f03-210e-4469-aea8-38331c4cf0ce button.colab-df-convert');\n",
              "      buttonEl.style.display =\n",
              "        google.colab.kernel.accessAllowed ? 'block' : 'none';\n",
              "\n",
              "      async function convertToInteractive(key) {\n",
              "        const element = document.querySelector('#df-4a816f03-210e-4469-aea8-38331c4cf0ce');\n",
              "        const dataTable =\n",
              "          await google.colab.kernel.invokeFunction('convertToInteractive',\n",
              "                                                    [key], {});\n",
              "        if (!dataTable) return;\n",
              "\n",
              "        const docLinkHtml = 'Like what you see? Visit the ' +\n",
              "          '<a target=\"_blank\" href=https://colab.research.google.com/notebooks/data_table.ipynb>data table notebook</a>'\n",
              "          + ' to learn more about interactive tables.';\n",
              "        element.innerHTML = '';\n",
              "        dataTable['output_type'] = 'display_data';\n",
              "        await google.colab.output.renderOutput(dataTable, element);\n",
              "        const docLink = document.createElement('div');\n",
              "        docLink.innerHTML = docLinkHtml;\n",
              "        element.appendChild(docLink);\n",
              "      }\n",
              "    </script>\n",
              "  </div>\n",
              "\n",
              "\n",
              "<div id=\"df-f5a708b7-4b92-4240-960f-61c269e42ec1\">\n",
              "  <button class=\"colab-df-quickchart\" onclick=\"quickchart('df-f5a708b7-4b92-4240-960f-61c269e42ec1')\"\n",
              "            title=\"Suggest charts\"\n",
              "            style=\"display:none;\">\n",
              "\n",
              "<svg xmlns=\"http://www.w3.org/2000/svg\" height=\"24px\"viewBox=\"0 0 24 24\"\n",
              "     width=\"24px\">\n",
              "    <g>\n",
              "        <path d=\"M19 3H5c-1.1 0-2 .9-2 2v14c0 1.1.9 2 2 2h14c1.1 0 2-.9 2-2V5c0-1.1-.9-2-2-2zM9 17H7v-7h2v7zm4 0h-2V7h2v10zm4 0h-2v-4h2v4z\"/>\n",
              "    </g>\n",
              "</svg>\n",
              "  </button>\n",
              "\n",
              "<style>\n",
              "  .colab-df-quickchart {\n",
              "      --bg-color: #E8F0FE;\n",
              "      --fill-color: #1967D2;\n",
              "      --hover-bg-color: #E2EBFA;\n",
              "      --hover-fill-color: #174EA6;\n",
              "      --disabled-fill-color: #AAA;\n",
              "      --disabled-bg-color: #DDD;\n",
              "  }\n",
              "\n",
              "  [theme=dark] .colab-df-quickchart {\n",
              "      --bg-color: #3B4455;\n",
              "      --fill-color: #D2E3FC;\n",
              "      --hover-bg-color: #434B5C;\n",
              "      --hover-fill-color: #FFFFFF;\n",
              "      --disabled-bg-color: #3B4455;\n",
              "      --disabled-fill-color: #666;\n",
              "  }\n",
              "\n",
              "  .colab-df-quickchart {\n",
              "    background-color: var(--bg-color);\n",
              "    border: none;\n",
              "    border-radius: 50%;\n",
              "    cursor: pointer;\n",
              "    display: none;\n",
              "    fill: var(--fill-color);\n",
              "    height: 32px;\n",
              "    padding: 0;\n",
              "    width: 32px;\n",
              "  }\n",
              "\n",
              "  .colab-df-quickchart:hover {\n",
              "    background-color: var(--hover-bg-color);\n",
              "    box-shadow: 0 1px 2px rgba(60, 64, 67, 0.3), 0 1px 3px 1px rgba(60, 64, 67, 0.15);\n",
              "    fill: var(--button-hover-fill-color);\n",
              "  }\n",
              "\n",
              "  .colab-df-quickchart-complete:disabled,\n",
              "  .colab-df-quickchart-complete:disabled:hover {\n",
              "    background-color: var(--disabled-bg-color);\n",
              "    fill: var(--disabled-fill-color);\n",
              "    box-shadow: none;\n",
              "  }\n",
              "\n",
              "  .colab-df-spinner {\n",
              "    border: 2px solid var(--fill-color);\n",
              "    border-color: transparent;\n",
              "    border-bottom-color: var(--fill-color);\n",
              "    animation:\n",
              "      spin 1s steps(1) infinite;\n",
              "  }\n",
              "\n",
              "  @keyframes spin {\n",
              "    0% {\n",
              "      border-color: transparent;\n",
              "      border-bottom-color: var(--fill-color);\n",
              "      border-left-color: var(--fill-color);\n",
              "    }\n",
              "    20% {\n",
              "      border-color: transparent;\n",
              "      border-left-color: var(--fill-color);\n",
              "      border-top-color: var(--fill-color);\n",
              "    }\n",
              "    30% {\n",
              "      border-color: transparent;\n",
              "      border-left-color: var(--fill-color);\n",
              "      border-top-color: var(--fill-color);\n",
              "      border-right-color: var(--fill-color);\n",
              "    }\n",
              "    40% {\n",
              "      border-color: transparent;\n",
              "      border-right-color: var(--fill-color);\n",
              "      border-top-color: var(--fill-color);\n",
              "    }\n",
              "    60% {\n",
              "      border-color: transparent;\n",
              "      border-right-color: var(--fill-color);\n",
              "    }\n",
              "    80% {\n",
              "      border-color: transparent;\n",
              "      border-right-color: var(--fill-color);\n",
              "      border-bottom-color: var(--fill-color);\n",
              "    }\n",
              "    90% {\n",
              "      border-color: transparent;\n",
              "      border-bottom-color: var(--fill-color);\n",
              "    }\n",
              "  }\n",
              "</style>\n",
              "\n",
              "  <script>\n",
              "    async function quickchart(key) {\n",
              "      const quickchartButtonEl =\n",
              "        document.querySelector('#' + key + ' button');\n",
              "      quickchartButtonEl.disabled = true;  // To prevent multiple clicks.\n",
              "      quickchartButtonEl.classList.add('colab-df-spinner');\n",
              "      try {\n",
              "        const charts = await google.colab.kernel.invokeFunction(\n",
              "            'suggestCharts', [key], {});\n",
              "      } catch (error) {\n",
              "        console.error('Error during call to suggestCharts:', error);\n",
              "      }\n",
              "      quickchartButtonEl.classList.remove('colab-df-spinner');\n",
              "      quickchartButtonEl.classList.add('colab-df-quickchart-complete');\n",
              "    }\n",
              "    (() => {\n",
              "      let quickchartButtonEl =\n",
              "        document.querySelector('#df-f5a708b7-4b92-4240-960f-61c269e42ec1 button');\n",
              "      quickchartButtonEl.style.display =\n",
              "        google.colab.kernel.accessAllowed ? 'block' : 'none';\n",
              "    })();\n",
              "  </script>\n",
              "</div>\n",
              "\n",
              "    </div>\n",
              "  </div>\n"
            ],
            "application/vnd.google.colaboratory.intrinsic+json": {
              "type": "dataframe",
              "variable_name": "dataset",
              "summary": "{\n  \"name\": \"dataset\",\n  \"rows\": 4898,\n  \"fields\": [\n    {\n      \"column\": \"fixed acidity\",\n      \"properties\": {\n        \"dtype\": \"number\",\n        \"std\": 0.843868227687513,\n        \"min\": 3.8,\n        \"max\": 14.2,\n        \"num_unique_values\": 68,\n        \"samples\": [\n          10.3,\n          5.8,\n          6.2\n        ],\n        \"semantic_type\": \"\",\n        \"description\": \"\"\n      }\n    },\n    {\n      \"column\": \"volatile acidity\",\n      \"properties\": {\n        \"dtype\": \"number\",\n        \"std\": 0.10079454842486534,\n        \"min\": 0.08,\n        \"max\": 1.1,\n        \"num_unique_values\": 125,\n        \"samples\": [\n          0.14,\n          0.595,\n          0.13\n        ],\n        \"semantic_type\": \"\",\n        \"description\": \"\"\n      }\n    },\n    {\n      \"column\": \"citric acid\",\n      \"properties\": {\n        \"dtype\": \"number\",\n        \"std\": 0.12101980420298249,\n        \"min\": 0.0,\n        \"max\": 1.66,\n        \"num_unique_values\": 87,\n        \"samples\": [\n          0.64,\n          0.36,\n          0.24\n        ],\n        \"semantic_type\": \"\",\n        \"description\": \"\"\n      }\n    },\n    {\n      \"column\": \"residual sugar\",\n      \"properties\": {\n        \"dtype\": \"number\",\n        \"std\": 5.072057784014881,\n        \"min\": 0.6,\n        \"max\": 65.8,\n        \"num_unique_values\": 310,\n        \"samples\": [\n          15.5,\n          19.25,\n          3.3\n        ],\n        \"semantic_type\": \"\",\n        \"description\": \"\"\n      }\n    },\n    {\n      \"column\": \"chlorides\",\n      \"properties\": {\n        \"dtype\": \"number\",\n        \"std\": 0.021847968093728798,\n        \"min\": 0.009,\n        \"max\": 0.346,\n        \"num_unique_values\": 160,\n        \"samples\": [\n          0.167,\n          0.133,\n          0.015\n        ],\n        \"semantic_type\": \"\",\n        \"description\": \"\"\n      }\n    },\n    {\n      \"column\": \"free sulfur dioxide\",\n      \"properties\": {\n        \"dtype\": \"number\",\n        \"std\": 17.00713732523259,\n        \"min\": 2.0,\n        \"max\": 289.0,\n        \"num_unique_values\": 132,\n        \"samples\": [\n          24.0,\n          122.5,\n          7.0\n        ],\n        \"semantic_type\": \"\",\n        \"description\": \"\"\n      }\n    },\n    {\n      \"column\": \"total sulfur dioxide\",\n      \"properties\": {\n        \"dtype\": \"number\",\n        \"std\": 42.49806455414291,\n        \"min\": 9.0,\n        \"max\": 440.0,\n        \"num_unique_values\": 251,\n        \"samples\": [\n          260.0,\n          63.0,\n          70.0\n        ],\n        \"semantic_type\": \"\",\n        \"description\": \"\"\n      }\n    },\n    {\n      \"column\": \"density\",\n      \"properties\": {\n        \"dtype\": \"number\",\n        \"std\": 0.0029909069169369337,\n        \"min\": 0.98711,\n        \"max\": 1.03898,\n        \"num_unique_values\": 890,\n        \"samples\": [\n          0.99362,\n          0.99388,\n          0.9929\n        ],\n        \"semantic_type\": \"\",\n        \"description\": \"\"\n      }\n    },\n    {\n      \"column\": \"pH\",\n      \"properties\": {\n        \"dtype\": \"number\",\n        \"std\": 0.1510005996150668,\n        \"min\": 2.72,\n        \"max\": 3.82,\n        \"num_unique_values\": 103,\n        \"samples\": [\n          3.34,\n          3.41,\n          3.49\n        ],\n        \"semantic_type\": \"\",\n        \"description\": \"\"\n      }\n    },\n    {\n      \"column\": \"sulphates\",\n      \"properties\": {\n        \"dtype\": \"number\",\n        \"std\": 0.1141258339488323,\n        \"min\": 0.22,\n        \"max\": 1.08,\n        \"num_unique_values\": 79,\n        \"samples\": [\n          0.41,\n          0.45,\n          0.46\n        ],\n        \"semantic_type\": \"\",\n        \"description\": \"\"\n      }\n    },\n    {\n      \"column\": \"alcohol\",\n      \"properties\": {\n        \"dtype\": \"number\",\n        \"std\": 1.230620567757318,\n        \"min\": 8.0,\n        \"max\": 14.2,\n        \"num_unique_values\": 103,\n        \"samples\": [\n          12.6,\n          11.3666666666667,\n          10.0333333333333\n        ],\n        \"semantic_type\": \"\",\n        \"description\": \"\"\n      }\n    },\n    {\n      \"column\": \"quality\",\n      \"properties\": {\n        \"dtype\": \"number\",\n        \"std\": 0,\n        \"min\": 3,\n        \"max\": 9,\n        \"num_unique_values\": 7,\n        \"samples\": [\n          6,\n          5,\n          3\n        ],\n        \"semantic_type\": \"\",\n        \"description\": \"\"\n      }\n    }\n  ]\n}"
            }
          },
          "metadata": {},
          "execution_count": 23
        }
      ]
    },
    {
      "cell_type": "code",
      "source": [
        "dataset.info()"
      ],
      "metadata": {
        "colab": {
          "base_uri": "https://localhost:8080/"
        },
        "id": "gGUE-vD3mlga",
        "outputId": "de07298d-a003-46d7-fded-5eb2a07db019"
      },
      "execution_count": null,
      "outputs": [
        {
          "output_type": "stream",
          "name": "stdout",
          "text": [
            "<class 'pandas.core.frame.DataFrame'>\n",
            "RangeIndex: 4898 entries, 0 to 4897\n",
            "Data columns (total 12 columns):\n",
            " #   Column                Non-Null Count  Dtype  \n",
            "---  ------                --------------  -----  \n",
            " 0   fixed acidity         4898 non-null   float64\n",
            " 1   volatile acidity      4898 non-null   float64\n",
            " 2   citric acid           4898 non-null   float64\n",
            " 3   residual sugar        4898 non-null   float64\n",
            " 4   chlorides             4898 non-null   float64\n",
            " 5   free sulfur dioxide   4898 non-null   float64\n",
            " 6   total sulfur dioxide  4898 non-null   float64\n",
            " 7   density               4898 non-null   float64\n",
            " 8   pH                    4898 non-null   float64\n",
            " 9   sulphates             4898 non-null   float64\n",
            " 10  alcohol               4898 non-null   float64\n",
            " 11  quality               4898 non-null   int64  \n",
            "dtypes: float64(11), int64(1)\n",
            "memory usage: 459.3 KB\n"
          ]
        }
      ]
    },
    {
      "cell_type": "markdown",
      "source": [
        "# 2) Separação do conjunto de treino e do conjunto de teste com holdout\n",
        "\n",
        "Aqui é definido o tamanho do conjunto de treino, do conjunto de teste, as partições e o metodo de avaliação."
      ],
      "metadata": {
        "id": "s7NaIt2R4WE_"
      }
    },
    {
      "cell_type": "code",
      "metadata": {
        "id": "tjaUHWqvufYZ"
      },
      "source": [
        "test_size = 0.20 # tamanho do conjunto de teste\n",
        "seed = 7 # semente aleatória\n",
        "\n",
        "# Separação em conjuntos de treino e teste\n",
        "array = dataset.values\n",
        "X = array[:,0:11]\n",
        "y = array[:,11]\n",
        "X_train, X_test, y_train, y_test = train_test_split(X, y, test_size=test_size, shuffle=True, random_state=seed, stratify=y) # holdout com estratificação\n",
        "\n",
        "# Parâmetros e partições da validação cruzada\n",
        "scoring = 'accuracy'\n",
        "num_particoes = 10\n",
        "kfold = StratifiedKFold(n_splits=num_particoes, shuffle=True, random_state=seed) # validação cruzada com estratificação"
      ],
      "execution_count": null,
      "outputs": []
    },
    {
      "cell_type": "markdown",
      "source": [
        "# 3) Modelagem e Inferência\n",
        "\n",
        "São utilizados 4 algoritimos para classificação. KNN, SVM, Naïve Bayes e Árvore de Decisão. Os dados são treinados com cada algoritmo e no final é apresentadado a acurácia encontrada."
      ],
      "metadata": {
        "id": "3h63zSMdD5Qx"
      }
    },
    {
      "cell_type": "code",
      "source": [
        "np.random.seed(7) # definindo uma semente global\n",
        "\n",
        "# Lista que armazenará os modelos\n",
        "models = []\n",
        "\n",
        "# Criando os modelos e adicionando-os na lista de modelos\n",
        "models.append(('KNN', KNeighborsClassifier()))\n",
        "models.append(('CART', DecisionTreeClassifier()))\n",
        "models.append(('NB', GaussianNB()))\n",
        "models.append(('SVM', SVC()))\n",
        "\n",
        "# Listas para armazenar os resultados\n",
        "results = []\n",
        "names = []\n",
        "\n",
        "# Avaliação dos modelos\n",
        "for name, model in models:\n",
        "    cv_results = cross_val_score(model, X_train, y_train, cv=kfold, scoring=scoring)\n",
        "    results.append(cv_results)\n",
        "    names.append(name)\n",
        "    msg = \"%s: %f (%f)\" % (name, cv_results.mean(), cv_results.std())\n",
        "    print(msg)\n",
        "\n",
        "# Boxplot de comparação dos modelos\n",
        "fig = plt.figure(figsize=(15,10))\n",
        "fig.suptitle('Comparação dos Modelos')\n",
        "ax = fig.add_subplot(111)\n",
        "plt.boxplot(results)\n",
        "ax.set_xticklabels(names)\n",
        "plt.show()"
      ],
      "metadata": {
        "id": "_1DCniFGSuhm",
        "colab": {
          "base_uri": "https://localhost:8080/",
          "height": 999
        },
        "outputId": "972b880b-5453-4ed9-b065-23a0549dd0b9"
      },
      "execution_count": null,
      "outputs": [
        {
          "output_type": "stream",
          "name": "stdout",
          "text": [
            "KNN: 0.478053 (0.025727)\n",
            "CART: 0.587054 (0.024745)\n",
            "NB: 0.437213 (0.020639)\n",
            "SVM: 0.448697 (0.003571)\n"
          ]
        },
        {
          "output_type": "display_data",
          "data": {
            "text/plain": [
              "<Figure size 1500x1000 with 1 Axes>"
            ],
            "image/png": "[encoded data removed]"
          },
          "metadata": {}
        }
      ]
    },
    {
      "cell_type": "markdown",
      "source": [
        "# 4) Criação e avaliação de modelos: dados padronizados e normalizados\n",
        "\n",
        "###Os mesmos dados são treinados novamente, mas, desta vez, também é treinado com os dados normalizados (os valores do dataset são adaptados para ficar entre 0 e 1) e padronizados (os valores do dataset são adaptaos para terem média 0 e desvio padrão 1) para ver se são obtidos resultados melhores."
      ],
      "metadata": {
        "id": "b46w6CpZ4X-_"
      }
    },
    {
      "cell_type": "code",
      "metadata": {
        "id": "71VnANHlxMLM",
        "colab": {
          "base_uri": "https://localhost:8080/",
          "height": 692
        },
        "outputId": "1933056f-8236-4678-f988-87ebdc234aa5"
      },
      "source": [
        "np.random.seed(7) # definindo uma semente global para este bloco\n",
        "\n",
        "# Listas para armazenar os armazenar os pipelines e os resultados para todas as visões do dataset\n",
        "pipelines = []\n",
        "results = []\n",
        "names = []\n",
        "\n",
        "\n",
        "# Criando os elementos do pipeline\n",
        "\n",
        "# Algoritmos que serão utilizados\n",
        "knn = ('KNN', KNeighborsClassifier())\n",
        "cart = ('CART', DecisionTreeClassifier())\n",
        "naive_bayes = ('NB', GaussianNB())\n",
        "svm = ('SVM', SVC())\n",
        "\n",
        "# Transformações que serão utilizadas\n",
        "standard_scaler = ('StandardScaler', StandardScaler())\n",
        "min_max_scaler = ('MinMaxScaler', MinMaxScaler())\n",
        "\n",
        "\n",
        "# Montando os pipelines\n",
        "\n",
        "# Dataset original\n",
        "pipelines.append(('KNN-orig', Pipeline([knn])))\n",
        "pipelines.append(('CART-orig', Pipeline([cart])))\n",
        "pipelines.append(('NB-orig', Pipeline([naive_bayes])))\n",
        "pipelines.append(('SVM-orig', Pipeline([svm])))\n",
        "\n",
        "# Dataset Padronizado\n",
        "pipelines.append(('KNN-padr', Pipeline([standard_scaler, knn])))\n",
        "pipelines.append(('CART-padr', Pipeline([standard_scaler, cart])))\n",
        "pipelines.append(('NB-padr', Pipeline([standard_scaler, naive_bayes])))\n",
        "pipelines.append(('SVM-padr', Pipeline([standard_scaler, svm])))\n",
        "\n",
        "# Dataset Normalizado\n",
        "pipelines.append(('KNN-norm', Pipeline([min_max_scaler, knn])))\n",
        "pipelines.append(('CART-norm', Pipeline([min_max_scaler, cart])))\n",
        "pipelines.append(('NB-norm', Pipeline([min_max_scaler, naive_bayes])))\n",
        "pipelines.append(('SVM-norm', Pipeline([min_max_scaler, svm])))\n",
        "\n",
        "# Executando os pipelines\n",
        "for name, model in pipelines:\n",
        "    cv_results = cross_val_score(model, X_train, y_train, cv=kfold, scoring=scoring)\n",
        "    results.append(cv_results)\n",
        "    names.append(name)\n",
        "    msg = \"%s: %.3f (%.3f)\" % (name, cv_results.mean(), cv_results.std()) # formatando para 3 casas decimais\n",
        "    print(msg)\n",
        "\n",
        "# Boxplot de comparação dos modelos\n",
        "fig = plt.figure(figsize=(25,6))\n",
        "fig.suptitle('Comparação dos Modelos - Dataset orginal, padronizado e normalizado')\n",
        "ax = fig.add_subplot(111)\n",
        "plt.boxplot(results)\n",
        "ax.set_xticklabels(names, rotation=90)\n",
        "plt.show()"
      ],
      "execution_count": null,
      "outputs": [
        {
          "output_type": "stream",
          "name": "stdout",
          "text": [
            "KNN-orig: 0.478 (0.026)\n",
            "CART-orig: 0.587 (0.025)\n",
            "NB-orig: 0.437 (0.021)\n",
            "SVM-orig: 0.449 (0.004)\n",
            "KNN-padr: 0.546 (0.020)\n",
            "CART-padr: 0.579 (0.027)\n",
            "NB-padr: 0.437 (0.022)\n",
            "SVM-padr: 0.565 (0.024)\n",
            "KNN-norm: 0.559 (0.025)\n",
            "CART-norm: 0.584 (0.028)\n",
            "NB-norm: 0.437 (0.022)\n",
            "SVM-norm: 0.552 (0.029)\n"
          ]
        },
        {
          "output_type": "display_data",
          "data": {
            "text/plain": [
              "<Figure size 2500x600 with 1 Axes>"
            ],
            "image/png": "[encoded data removed]"
          },
          "metadata": {}
        }
      ]
    },
    {
      "cell_type": "markdown",
      "source": [
        "# 5) Otimização dos hiperparâmetros\n",
        "\n",
        "Como apenas o método Naïve Bayes obteve os piores resultados ele foi descartado. A partir dos melhores resultados, são realizados mudanças nos hiperparâmetros para melhorar os resultados obtidos.\n",
        "\n",
        "\n",
        "---\n",
        "\n",
        "O melhor resultado encontrado foi knn-padr ('KNN__metric': 'manhattan', 'KNN__n_neighbors': 1)"
      ],
      "metadata": {
        "id": "CbUI5wrR4Zde"
      }
    },
    {
      "cell_type": "code",
      "source": [
        "# Tuning do KNN, Decision Tree Classifier e SVM\n",
        "\n",
        "np.random.seed(7) # definindo uma semente global para este bloco\n",
        "\n",
        "pipelines = []\n",
        "\n",
        "# Definindo os componentes do pipeline\n",
        "knn = ('KNN', KNeighborsClassifier())\n",
        "cart = ('CART', DecisionTreeClassifier())\n",
        "svm = ('SVM', SVC())\n",
        "\n",
        "# Transformações que serão utilizadas\n",
        "standard_scaler = ('StandardScaler', StandardScaler())\n",
        "min_max_scaler = ('MinMaxScaler', MinMaxScaler())\n",
        "\n",
        "param_grid = {\n",
        "    'KNN__n_neighbors': [1,3,5,7,9,11,13,15,17,19],\n",
        "    'KNN__metric': [\"euclidean\", \"manhattan\", \"minkowski\"],\n",
        "}\n",
        "\n",
        "# Montando os pipelines KNN\n",
        "pipelines.append(('knn-orig', Pipeline(steps=[knn]), param_grid))\n",
        "pipelines.append(('knn-padr', Pipeline(steps=[standard_scaler, knn]), param_grid))\n",
        "pipelines.append(('knn-norm', Pipeline(steps=[min_max_scaler, knn]), param_grid))\n",
        "\n",
        "param_grid = {\n",
        "    'CART__max_depth': [None, 5, 10, 20, 30],\n",
        "    'CART__criterion': [\"gini\", \"entropy\"],\n",
        "}\n",
        "\n",
        "# Montando os pipelines DecisionTreeClassifier\n",
        "pipelines.append(('CART-orig', Pipeline(steps=[cart]), param_grid))\n",
        "pipelines.append(('CART-padr', Pipeline(steps=[standard_scaler, cart]), param_grid))\n",
        "pipelines.append(('CART-norm', Pipeline(steps=[min_max_scaler, cart]), param_grid))\n",
        "\n",
        "param_grid = {\n",
        "    'SVM__C': [1, 10, 100],\n",
        "    'SVM__kernel': [\"rbf\"],\n",
        "    'SVM__gamma': [\"scale\"],\n",
        "}\n",
        "\n",
        "# Montando os pipelines KSVM\n",
        "pipelines.append(('SVM-orig', Pipeline(steps=[svm]), param_grid))\n",
        "pipelines.append(('SVM-padr', Pipeline(steps=[standard_scaler, svm]), param_grid))\n",
        "pipelines.append(('SVM-norm', Pipeline(steps=[min_max_scaler, svm]), param_grid))\n",
        "\n",
        "# Prepara e executa o GridSearchCV\n",
        "for name, model, param_grid in pipelines:\n",
        "    grid = GridSearchCV(estimator=model, param_grid=param_grid, scoring=scoring, cv=kfold)\n",
        "    grid.fit(X_train, y_train)\n",
        "    # imprime a melhor configuração\n",
        "    print(\"Resultado: %s - Melhor: %f usando %s\" % (name, grid.best_score_, grid.best_params_))"
      ],
      "metadata": {
        "colab": {
          "base_uri": "https://localhost:8080/"
        },
        "id": "GaNAiyFBN07N",
        "outputId": "6beb24a3-29df-408b-e63e-5724f41410d4"
      },
      "execution_count": null,
      "outputs": [
        {
          "output_type": "stream",
          "name": "stdout",
          "text": [
            "Resultado: knn-orig - Melhor: 0.574288 usando {'KNN__metric': 'manhattan', 'KNN__n_neighbors': 1}\n",
            "Resultado: knn-padr - Melhor: 0.626099 usando {'KNN__metric': 'manhattan', 'KNN__n_neighbors': 1}\n",
            "Resultado: knn-norm - Melhor: 0.624053 usando {'KNN__metric': 'manhattan', 'KNN__n_neighbors': 1}\n",
            "Resultado: CART-orig - Melhor: 0.587054 usando {'CART__criterion': 'gini', 'CART__max_depth': None}\n",
            "Resultado: CART-padr - Melhor: 0.582956 usando {'CART__criterion': 'entropy', 'CART__max_depth': 20}\n",
            "Resultado: CART-norm - Melhor: 0.580927 usando {'CART__criterion': 'gini', 'CART__max_depth': None}\n",
            "Resultado: SVM-orig - Melhor: 0.510973 usando {'SVM__C': 100, 'SVM__gamma': 'scale', 'SVM__kernel': 'rbf'}\n",
            "Resultado: SVM-padr - Melhor: 0.584738 usando {'SVM__C': 100, 'SVM__gamma': 'scale', 'SVM__kernel': 'rbf'}\n",
            "Resultado: SVM-norm - Melhor: 0.564570 usando {'SVM__C': 100, 'SVM__gamma': 'scale', 'SVM__kernel': 'rbf'}\n"
          ]
        }
      ]
    },
    {
      "cell_type": "markdown",
      "source": [
        "# 6) Finalização do Modelo\n",
        "Modelo é finalizado com o algoritmo e parametros que apresentaram a melhor acurácia. Para finalizar, o modelo é treinado utilizando todo o conjunto de dados de treinamento."
      ],
      "metadata": {
        "id": "4yL4R2RxIWgi"
      }
    },
    {
      "cell_type": "code",
      "source": [
        "# Avaliação do modelo com o conjunto de testes\n",
        "\n",
        "# Preparação do modelo\n",
        "scaler = StandardScaler().fit(X_train) # ajuste do scaler com o conjunto de treino\n",
        "rescaledX = scaler.transform(X_train) # aplicação da scale no conjunto de treino\n",
        "model = KNeighborsClassifier(metric='manhattan', n_neighbors=1)\n",
        "model.fit(rescaledX, y_train)\n",
        "\n",
        "# Estimativa da acurácia no conjunto de teste\n",
        "rescaledTestX = scaler.transform(X_test) # aplicação do scaler no conjunto de teste\n",
        "predictions = model.predict(rescaledTestX)\n",
        "print(accuracy_score(y_test, predictions))"
      ],
      "metadata": {
        "id": "AO264Bqd4QpM",
        "colab": {
          "base_uri": "https://localhost:8080/"
        },
        "outputId": "a217e4dc-76f9-4d82-a4b1-fe8c871fe4a3"
      },
      "execution_count": null,
      "outputs": [
        {
          "output_type": "stream",
          "name": "stdout",
          "text": [
            "0.6489795918367347\n"
          ]
        }
      ]
    },
    {
      "cell_type": "code",
      "source": [
        "# Preparação do modelo com TODO o dataset\n",
        "scaler = StandardScaler().fit(X) # ajuste do scaler com TODO o dataset\n",
        "rescaledX = scaler.transform(X) # aplicação em TODO o dataset\n",
        "model.fit(rescaledX, y)"
      ],
      "metadata": {
        "colab": {
          "base_uri": "https://localhost:8080/",
          "height": 75
        },
        "id": "zfRre2SyLPkN",
        "outputId": "9f2c30b5-b09a-4a23-b13b-c27bf1b69ded"
      },
      "execution_count": null,
      "outputs": [
        {
          "output_type": "execute_result",
          "data": {
            "text/plain": [
              "KNeighborsClassifier(metric='manhattan', n_neighbors=1)"
            ],
            "text/html": [
              "<style>#sk-container-id-2 {color: black;}#sk-container-id-2 pre{padding: 0;}#sk-container-id-2 div.sk-toggleable {background-color: white;}#sk-container-id-2 label.sk-toggleable__label {cursor: pointer;display: block;width: 100%;margin-bottom: 0;padding: 0.3em;box-sizing: border-box;text-align: center;}#sk-container-id-2 label.sk-toggleable__label-arrow:before {content: \"▸\";float: left;margin-right: 0.25em;color: #696969;}#sk-container-id-2 label.sk-toggleable__label-arrow:hover:before {color: black;}#sk-container-id-2 div.sk-estimator:hover label.sk-toggleable__label-arrow:before {color: black;}#sk-container-id-2 div.sk-toggleable__content {max-height: 0;max-width: 0;overflow: hidden;text-align: left;background-color: #f0f8ff;}#sk-container-id-2 div.sk-toggleable__content pre {margin: 0.2em;color: black;border-radius: 0.25em;background-color: #f0f8ff;}#sk-container-id-2 input.sk-toggleable__control:checked~div.sk-toggleable__content {max-height: 200px;max-width: 100%;overflow: auto;}#sk-container-id-2 input.sk-toggleable__control:checked~label.sk-toggleable__label-arrow:before {content: \"▾\";}#sk-container-id-2 div.sk-estimator input.sk-toggleable__control:checked~label.sk-toggleable__label {background-color: #d4ebff;}#sk-container-id-2 div.sk-label input.sk-toggleable__control:checked~label.sk-toggleable__label {background-color: #d4ebff;}#sk-container-id-2 input.sk-hidden--visually {border: 0;clip: rect(1px 1px 1px 1px);clip: rect(1px, 1px, 1px, 1px);height: 1px;margin: -1px;overflow: hidden;padding: 0;position: absolute;width: 1px;}#sk-container-id-2 div.sk-estimator {font-family: monospace;background-color: #f0f8ff;border: 1px dotted black;border-radius: 0.25em;box-sizing: border-box;margin-bottom: 0.5em;}#sk-container-id-2 div.sk-estimator:hover {background-color: #d4ebff;}#sk-container-id-2 div.sk-parallel-item::after {content: \"\";width: 100%;border-bottom: 1px solid gray;flex-grow: 1;}#sk-container-id-2 div.sk-label:hover label.sk-toggleable__label {background-color: #d4ebff;}#sk-container-id-2 div.sk-serial::before {content: \"\";position: absolute;border-left: 1px solid gray;box-sizing: border-box;top: 0;bottom: 0;left: 50%;z-index: 0;}#sk-container-id-2 div.sk-serial {display: flex;flex-direction: column;align-items: center;background-color: white;padding-right: 0.2em;padding-left: 0.2em;position: relative;}#sk-container-id-2 div.sk-item {position: relative;z-index: 1;}#sk-container-id-2 div.sk-parallel {display: flex;align-items: stretch;justify-content: center;background-color: white;position: relative;}#sk-container-id-2 div.sk-item::before, #sk-container-id-2 div.sk-parallel-item::before {content: \"\";position: absolute;border-left: 1px solid gray;box-sizing: border-box;top: 0;bottom: 0;left: 50%;z-index: -1;}#sk-container-id-2 div.sk-parallel-item {display: flex;flex-direction: column;z-index: 1;position: relative;background-color: white;}#sk-container-id-2 div.sk-parallel-item:first-child::after {align-self: flex-end;width: 50%;}#sk-container-id-2 div.sk-parallel-item:last-child::after {align-self: flex-start;width: 50%;}#sk-container-id-2 div.sk-parallel-item:only-child::after {width: 0;}#sk-container-id-2 div.sk-dashed-wrapped {border: 1px dashed gray;margin: 0 0.4em 0.5em 0.4em;box-sizing: border-box;padding-bottom: 0.4em;background-color: white;}#sk-container-id-2 div.sk-label label {font-family: monospace;font-weight: bold;display: inline-block;line-height: 1.2em;}#sk-container-id-2 div.sk-label-container {text-align: center;}#sk-container-id-2 div.sk-container {/* jupyter's `normalize.less` sets `[hidden] { display: none; }` but bootstrap.min.css set `[hidden] { display: none !important; }` so we also need the `!important` here to be able to override the default hidden behavior on the sphinx rendered scikit-learn.org. See: https://github.com/scikit-learn/scikit-learn/issues/21755 */display: inline-block !important;position: relative;}#sk-container-id-2 div.sk-text-repr-fallback {display: none;}</style><div id=\"sk-container-id-2\" class=\"sk-top-container\"><div class=\"sk-text-repr-fallback\"><pre>KNeighborsClassifier(metric=&#x27;manhattan&#x27;, n_neighbors=1)</pre><b>In a Jupyter environment, please rerun this cell to show the HTML representation or trust the notebook. <br />On GitHub, the HTML representation is unable to render, please try loading this page with nbviewer.org.</b></div><div class=\"sk-container\" hidden><div class=\"sk-item\"><div class=\"sk-estimator sk-toggleable\"><input class=\"sk-toggleable__control sk-hidden--visually\" id=\"sk-estimator-id-2\" type=\"checkbox\" checked><label for=\"sk-estimator-id-2\" class=\"sk-toggleable__label sk-toggleable__label-arrow\">KNeighborsClassifier</label><div class=\"sk-toggleable__content\"><pre>KNeighborsClassifier(metric=&#x27;manhattan&#x27;, n_neighbors=1)</pre></div></div></div></div></div>"
            ]
          },
          "metadata": {},
          "execution_count": 28
        }
      ]
    },
    {
      "cell_type": "markdown",
      "source": [
        "Rodando o modelo a partir de um pipeline com os hiperparâmetros otimizados"
      ],
      "metadata": {
        "id": "K72-chf6sh2O"
      }
    },
    {
      "cell_type": "code",
      "source": [
        "np.random.seed(7)\n",
        "\n",
        "model = KNeighborsClassifier(metric='manhattan', n_neighbors=1)\n",
        "\n",
        "pipeline = Pipeline(steps=[('StandardScaler', StandardScaler()), ('knn', model)])\n",
        "\n",
        "pipeline.fit(X_train, y_train)\n",
        "predictions = pipeline.predict(X_test)\n",
        "print(accuracy_score(y_test, predictions))"
      ],
      "metadata": {
        "colab": {
          "base_uri": "https://localhost:8080/"
        },
        "id": "5Y7DFnDbsctm",
        "outputId": "c4d79eb5-04cf-44d3-a906-dc97f2739fdd"
      },
      "execution_count": null,
      "outputs": [
        {
          "output_type": "stream",
          "name": "stdout",
          "text": [
            "0.6489795918367347\n"
          ]
        }
      ]
    },
    {
      "cell_type": "markdown",
      "source": [
        "# 7) Simulando a aplicação do modelo em dados não vistos\n",
        "\n",
        "O modelo desenvolvido tem a melhor acurácia de apresentar a previsão da qualidade do vinho. O modelo pode simular a entrada de novos dados para prever a saída."
      ],
      "metadata": {
        "id": "7zP93arwLzoA"
      }
    },
    {
      "cell_type": "code",
      "source": [
        "# Novos dados - não sabemos a classe!\n",
        "data = {'fixed acidity': [0.4, 0.5, 1],\n",
        "        'volatile acidity': [0.90, 0.800, 0.710],\n",
        "        'citric acid': [0.1, 0, 0],\n",
        "        'residual sugar': [2, 4, 2],\n",
        "        'chlorides': [0.035, 0.06, 0.07],\n",
        "        'free sulfur dioxide': [10, 20, 10],\n",
        "        'total sulfur dioxide': [50, 60, 100],\n",
        "        'density': [0.996, 0.996, 0.996],\n",
        "        'pH': [4.15, 3, 3.1],\n",
        "        'sulphates': [0.6, 0.7, 0.1],\n",
        "        'alcohol': [13, 10, 2],\n",
        "        }\n",
        "\n",
        "atributos = ['fixed acidity', 'volatile acidity', 'citric acid', 'residual sugar', 'chlorides', 'free sulfur dioxide', 'total sulfur dioxide', 'density','pH', 'sulphates', 'alcohol']\n",
        "entrada = pd.DataFrame(data, columns=atributos)\n",
        "\n",
        "array_entrada = entrada.values\n",
        "X_entrada = array_entrada[:,0:11].astype(float)\n",
        "\n",
        "# Aplicação do scaler utilizado em X\n",
        "rescaledEntradaX = scaler.transform(X_entrada)\n",
        "\n",
        "# Predição de classes dos dados de entrada\n",
        "saidas = model.predict(rescaledEntradaX)\n",
        "print(saidas)"
      ],
      "metadata": {
        "colab": {
          "base_uri": "https://localhost:8080/"
        },
        "id": "CKoIcLW1L5CE",
        "outputId": "e6e4009e-1df2-4eac-fabf-dc9cdac4da29"
      },
      "execution_count": null,
      "outputs": [
        {
          "output_type": "stream",
          "name": "stdout",
          "text": [
            "[4. 5. 4.]\n"
          ]
        }
      ]
    },
    {
      "cell_type": "markdown",
      "source": [
        "Deve-se ficar atento que ao desenvolver um código para realizar a predição o tempo dos testes do código e da otimização dos hiperparâmetros devem ser levado em conta, pois podem tomar bastante tempo."
      ],
      "metadata": {
        "id": "E-BVVkM25dBl"
      }
    },
    {
      "cell_type": "markdown",
      "source": [
        "# 8) Salva o modelo treinado em um arquivo"
      ],
      "metadata": {
        "id": "6wbFAV8zrFuU"
      }
    },
    {
      "cell_type": "markdown",
      "source": [
        "O modelo é salvo em um arquivo pkl."
      ],
      "metadata": {
        "id": "OcNztwjyjIgx"
      }
    },
    {
      "cell_type": "code",
      "source": [
        "# Salva o modelo\n",
        "filename_modelo = 'model.pkl'\n",
        "dump(model, open(filename_modelo, 'wb'))\n",
        "\n",
        "# Salva o scaler\n",
        "filename_scaler = 'scaler.pkl'\n",
        "dump(scaler, open(filename_scaler, 'wb'))\n",
        "\n",
        "# Salvando X_test e y_test\n",
        "X_test_df = pd.DataFrame(X_test, columns=dataset.columns[:-1])\n",
        "y_test_df = pd.DataFrame(y_test, columns=[dataset.columns[-1]])\n",
        "X_test_df.to_csv(\"X_test_dataset_vinho.csv\", encoding='utf-8', index=False)\n",
        "y_test_df.to_csv(\"y_test_dataset_vinho.csv\", encoding='utf-8', index=False)\n"
      ],
      "metadata": {
        "id": "rXt9w6NMqv3y"
      },
      "execution_count": null,
      "outputs": []
    }
  ]
}